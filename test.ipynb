{
 "cells": [
  {
   "cell_type": "code",
   "execution_count": 1,
   "metadata": {},
   "outputs": [
    {
     "name": "stderr",
     "output_type": "stream",
     "text": [
      "/Users/hynguyen/opt/anaconda3/envs/torch-gpu/lib/python3.10/site-packages/tqdm/auto.py:21: TqdmWarning: IProgress not found. Please update jupyter and ipywidgets. See https://ipywidgets.readthedocs.io/en/stable/user_install.html\n",
      "  from .autonotebook import tqdm as notebook_tqdm\n"
     ]
    },
    {
     "name": "stdout",
     "output_type": "stream",
     "text": [
      "Epoch: 0, Loss: 76.82438659667969\n",
      "Epoch: 1000, Loss: 0.6959292888641357\n",
      "Epoch: 2000, Loss: 0.21276387572288513\n",
      "Epoch: 3000, Loss: 0.025740329176187515\n",
      "Epoch: 4000, Loss: 0.0007077674963511527\n",
      "hidden.weight tensor([[-0.1964]])\n",
      "hidden.bias tensor([3.9230])\n",
      "output.weight tensor([[3.8178]])\n",
      "output.bias tensor([0.0222])\n"
     ]
    }
   ],
   "source": [
    "import torch\n",
    "import torch.nn as nn\n",
    "import torch.optim as optim\n",
    "\n",
    "# Step 1: Build the Dataset\n",
    "data = [(0, 15), (5, 11.25), (10, 7.5), (15, 3.75), (20, 0)]\n",
    "inputs = torch.tensor([x[0] for x in data], dtype=torch.float32).view(-1, 1)\n",
    "outputs = torch.tensor([x[1] for x in data], dtype=torch.float32).view(-1, 1)\n",
    "\n",
    "# Step 2: Build the Improved Model\n",
    "class ImprovedNN(nn.Module):\n",
    "    def __init__(self, hidden_size=10):\n",
    "        super(ImprovedNN, self).__init__()\n",
    "        self.hidden = nn.Linear(1, hidden_size)  # 1 input node, more hidden nodes\n",
    "        self.output = nn.Linear(hidden_size, 1)  # more hidden nodes, 1 output node\n",
    "\n",
    "    def forward(self, x):\n",
    "        x = torch.relu(self.hidden(x))\n",
    "        x = self.output(x)\n",
    "        return x\n",
    "\n",
    "improved_model = ImprovedNN(hidden_size=1)\n",
    "\n",
    "# Step 3: Train the Improved Model\n",
    "# Experimenting with different optimizer and learning rate\n",
    "optimizer = optim.Adam(improved_model.parameters(), lr=0.005)\n",
    "criterion = nn.MSELoss()\n",
    "\n",
    "def train_improved_model(model, criterion, optimizer, inputs, outputs, threshold=1e-4):\n",
    "    for epoch in range(10000):  # Increased number of epochs\n",
    "        optimizer.zero_grad()\n",
    "        predictions = model(inputs)\n",
    "        loss = criterion(predictions, outputs)\n",
    "        loss.backward()\n",
    "        optimizer.step()\n",
    "        if epoch % 1000 == 0:\n",
    "            print(f\"Epoch: {epoch}, Loss: {loss.item()}\")\n",
    "        if loss.item() < threshold:\n",
    "            break\n",
    "\n",
    "    return model\n",
    "\n",
    "trained_improved_model = train_improved_model(improved_model, criterion, optimizer, inputs, outputs)\n",
    "\n",
    "# Step 4: Print out the weights and biases of the improved model\n",
    "def print_model_parameters(model):\n",
    "    for name, param in model.named_parameters():\n",
    "        if param.requires_grad:\n",
    "            print(name, param.data)\n",
    "\n",
    "print_model_parameters(trained_improved_model)\n"
   ]
  },
  {
   "cell_type": "code",
   "execution_count": 4,
   "metadata": {},
   "outputs": [
    {
     "name": "stdout",
     "output_type": "stream",
     "text": [
      "14.999393463134766\n"
     ]
    }
   ],
   "source": [
    "# Step 5: Make a prediction with the improved model\n",
    "def predict(model, input):\n",
    "    return model(torch.tensor([input], dtype=torch.float32)).item()\n",
    "\n",
    "print(predict(trained_improved_model, 0))"
   ]
  },
  {
   "cell_type": "code",
   "execution_count": null,
   "metadata": {},
   "outputs": [],
   "source": []
  }
 ],
 "metadata": {
  "kernelspec": {
   "display_name": "torch-gpu",
   "language": "python",
   "name": "python3"
  },
  "language_info": {
   "codemirror_mode": {
    "name": "ipython",
    "version": 3
   },
   "file_extension": ".py",
   "mimetype": "text/x-python",
   "name": "python",
   "nbconvert_exporter": "python",
   "pygments_lexer": "ipython3",
   "version": "3.10.13"
  }
 },
 "nbformat": 4,
 "nbformat_minor": 2
}
