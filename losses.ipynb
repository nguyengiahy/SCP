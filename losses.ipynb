{
 "cells": [
  {
   "cell_type": "code",
   "execution_count": null,
   "metadata": {},
   "outputs": [],
   "source": [
    "import torch.nn as nn\n",
    "import torch.nn.functional as F\n",
    "import torch\n",
    "\n",
    "class MSELoss(nn.Module):\n",
    "    def __init__(self, temporal_weight = None, norm_dim = None):\n",
    "        \"\"\"\n",
    "        Args:\n",
    "            temporal_weight: penalty for loss at different time step, Tensor with length T\n",
    "        \"\"\"\n",
    "        super().__init__()\n",
    "        self.temporal_weight = temporal_weight\n",
    "        self.norm_dim = norm_dim\n",
    "    \n",
    "    def __call__(self, pred, label):\n",
    "        \"\"\"\n",
    "        pred --- tensor with shape (batch, ...)\n",
    "        label --- tensor with shape (batch, ...)\n",
    "        \"\"\"\n",
    "        if self.norm_dim is not None:\n",
    "            label = F.normalize(label, p = 2, dim = self.norm_dim)\n",
    "            pred = F.normalize(pred, p = 2, dim = self.norm_dim)\n",
    "\n",
    "        se = torch.square(pred - label)\n",
    "        if self.temporal_weight is not None:\n",
    "            w = self.temporal_weight.to(se.device)\n",
    "            if len(se.shape) == 5:\n",
    "                se = se * w[None, :, None, None, None]\n",
    "            elif len(se.shape) == 6:\n",
    "                se = se * w[None, :, None, None, None, None] #for warped frames, (N, num_future_frames, num_past_frames, C, H, W)\n",
    "        mse = se.mean()\n",
    "        return mse"
   ]
  }
 ],
 "metadata": {
  "language_info": {
   "name": "python"
  }
 },
 "nbformat": 4,
 "nbformat_minor": 2
}
